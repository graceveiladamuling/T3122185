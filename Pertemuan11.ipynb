{
 "cells": [
  {
   "cell_type": "code",
   "execution_count": 29,
   "metadata": {},
   "outputs": [],
   "source": [
    "import tkinter as tk\n",
    "from  tkinter import messagebox\n",
    "\n",
    "def tampilkan_dialog():\n",
    "    messagebox.showinfo(\"info\",\"Ini adalah dialog pop-up sederhana\")\n",
    "\n",
    "jendela_utama  = tk.Tk()\n",
    "jendela_utama.title(\"Contoh dialog pop-up\")\n",
    "jendela_utama.geometry('300x200')\n",
    "\n",
    "tombol_dialog = tk.Button(jendela_utama, text=\"Tampilkan Dialog\", command=tampilkan_dialog)\n",
    "tombol_dialog.pack(pady=20)\n",
    "\n",
    "jendela_utama.mainloop()"
   ]
  },
  {
   "cell_type": "code",
   "execution_count": 30,
   "metadata": {},
   "outputs": [],
   "source": [
    "import tkinter as tk\n",
    "from tkinter import simpledialog\n",
    "\n",
    "def tampilkan_kotak_masukan():\n",
    "    nama = simpledialog.askstring(\"Masukan Nama\", \"Masukan Nama Anda:\")\n",
    "    if nama:\n",
    "        label_hasil.config(text=f\"Selamat Datang, {nama}!\")\n",
    "\n",
    "jendela_utama = tk.Tk()\n",
    "jendela_utama.title(\"Contoh Kotak Masukan\")\n",
    "jendela_utama.geometry('300x200')\n",
    "\n",
    "tombol_masukan = tk.Button(jendela_utama, text=\"tampilkan Kotak Masukan\", command=tampilkan_kotak_masukan)\n",
    "tombol_masukan.pack(pady=20)\n",
    "\n",
    "label_hasil = tk.Label(jendela_utama, text=\"\")\n",
    "label_hasil.pack()\n",
    "jendela_utama.mainloop()"
   ]
  },
  {
   "cell_type": "code",
   "execution_count": 48,
   "metadata": {},
   "outputs": [],
   "source": [
    "import sqlite3\n",
    "\n",
    "class AplikasiCRUD:\n",
    "    def __init__(self, master):\n",
    "        self.master = master\n",
    "        self.master.title(\"Aplikasi CRUD Sederhana\")\n",
    "\n",
    "        self.label_nama = tk.Label(master, text=\"Nama:\")\n",
    "        self.label_nama.grid(row=0, column=0, sticky=tk.E, padx=10, pady=10)\n",
    "        self.entry_nama = tk.Entry(master)\n",
    "        self.entry_nama.grid(row=0, column=1, padx=10, pady=10)\n",
    "\n",
    "        self.tombol_tambah = tk.Button(master, text=\"tambah\", command=self.tambah_data)\n",
    "        self.tombol_tambah.grid(row=0, column=2, padx=10, pady=10)\n",
    "\n",
    "        self.tombol_tampilkan = tk.Button(master, text=\"tampilkan Data\", command=self.tampilkan_data)\n",
    "        self.tombol_tampilkan.grid(row=1, column=1, padx=10, pady=10)\n",
    "\n",
    "        self.conn = sqlite3.connect(\"data.db\")\n",
    "        self.cursor  = self.conn.cursor()\n",
    "\n",
    "        self.cursor.execute(\"CREATE TABLE IF NOT EXISTS mahasiswa (id INTEGER PRIMARY KEY, nama text)\")\n",
    "        self.conn.commit()\n",
    "\n",
    "    def tambah_data(self):\n",
    "        nama = self.entry_nama.get()\n",
    "        if nama:\n",
    "            self.cursor.execute(\"INSERT INTO mahasiswa (nama) VALUES (?)\", (nama,))\n",
    "            self.conn.commit()\n",
    "            messagebox.showinfo(\"Sukses\", \"Data ditambahkan!\")\n",
    "            self.entry_nama.delete(0, tk.END)\n",
    "        else:\n",
    "            messagebox.showwarning(\"Peringatan\", \"Nama tidak boleh kosong!\")\n",
    "        \n",
    "    def tampilkan_data(self):\n",
    "        tampilkan = TampilanData(self.master, self.conn, self.cursor)"
   ]
  },
  {
   "cell_type": "code",
   "execution_count": 49,
   "metadata": {},
   "outputs": [],
   "source": [
    "class TampilanData:\n",
    "    def __init__(self, master, conn, cursor):\n",
    "        self.master = master\n",
    "        self.master.withdraw()\n",
    "        self.tampilan_data = tk.Toplevel(master)\n",
    "        self.tampilan_data.title(\"Data Mahasiswa\")\n",
    "\n",
    "        self.conn = conn\n",
    "        self.cursor = cursor\n",
    "\n",
    "        self.listbox_data = tk.Listbox(self.tampilan_data, width=50, height=10)\n",
    "        self.listbox_data.pack(padx=10, pady=10)\n",
    "\n",
    "        self.refresh_data()\n",
    "        \n",
    "        self.tombol_tutup = tk.Button(self.tampilan_data, text=\"Tutup\", command=self.tutup_tampilan_data)\n",
    "        self.tombol_tutup.pack(pady=10)\n",
    "\n",
    "    def refresh_data(self):\n",
    "\n",
    "        self.listbox_data.delete(0, tk.END)\n",
    "        self.cursor.execute(\"SELECT * FROM mahasiswa\")\n",
    "        data = self.cursor.fetchall()\n",
    "\n",
    "        for row in data:\n",
    "            self.listbox_data.insert(tk.END, row[1])\n",
    "\n",
    "    def tutup_tampilan_data(self):\n",
    "\n",
    "        self.master.deiconify()\n",
    "        self.tambah_data.destroy()\n",
    "        self.conn.close()"
   ]
  },
  {
   "cell_type": "code",
   "execution_count": 50,
   "metadata": {},
   "outputs": [
    {
     "name": "stderr",
     "output_type": "stream",
     "text": [
      "Exception in Tkinter callback\n",
      "Traceback (most recent call last):\n",
      "  File \"c:\\Users\\leb SE\\anaconda3\\lib\\tkinter\\__init__.py\", line 1892, in __call__\n",
      "    return self.func(*args)\n",
      "  File \"C:\\Users\\leb SE\\AppData\\Local\\Temp\\ipykernel_588\\1777737243.py\", line 31, in tutup_tampilan_data\n",
      "    self.tambah_data.destroy()\n",
      "AttributeError: 'TampilanData' object has no attribute 'tambah_data'\n",
      "Exception in Tkinter callback\n",
      "Traceback (most recent call last):\n",
      "  File \"c:\\Users\\leb SE\\anaconda3\\lib\\tkinter\\__init__.py\", line 1892, in __call__\n",
      "    return self.func(*args)\n",
      "  File \"C:\\Users\\leb SE\\AppData\\Local\\Temp\\ipykernel_588\\1777737243.py\", line 31, in tutup_tampilan_data\n",
      "    self.tambah_data.destroy()\n",
      "AttributeError: 'TampilanData' object has no attribute 'tambah_data'\n"
     ]
    }
   ],
   "source": [
    "import tkinter as tk\n",
    "from tkinter import messagebox\n",
    "import sqlite3\n",
    "\n",
    "if __name__=='__main__':\n",
    "    root = tk.Tk()\n",
    "    app = AplikasiCRUD(root)\n",
    "    root.mainloop()"
   ]
  }
 ],
 "metadata": {
  "kernelspec": {
   "display_name": "Python 3",
   "language": "python",
   "name": "python3"
  },
  "language_info": {
   "codemirror_mode": {
    "name": "ipython",
    "version": 3
   },
   "file_extension": ".py",
   "mimetype": "text/x-python",
   "name": "python",
   "nbconvert_exporter": "python",
   "pygments_lexer": "ipython3",
   "version": "3.9.13"
  }
 },
 "nbformat": 4,
 "nbformat_minor": 2
}
